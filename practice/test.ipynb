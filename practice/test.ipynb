{
 "cells": [
  {
   "cell_type": "code",
   "execution_count": 1,
   "metadata": {},
   "outputs": [],
   "source": [
    "import numpy as np\n",
    "import matplotlib.pyplot as plt"
   ]
  },
  {
   "cell_type": "code",
   "execution_count": 2,
   "metadata": {},
   "outputs": [
    {
     "name": "stdout",
     "output_type": "stream",
     "text": [
      "[ 2.38244098  2.19571101  1.7258227  ...,  1.36430885  2.19595192\n",
      "  1.58951156]\n",
      "[ 0.35377358  0.77751572  0.36871069]\n",
      "[ 0.35377358  0.77751572  0.36871069]\n"
     ]
    },
    {
     "data": {
      "image/png": "[encoded data removed]",
      "text/plain": [
       "<matplotlib.figure.Figure at 0x10e64cf60>"
      ]
     },
     "metadata": {},
     "output_type": "display_data"
    }
   ],
   "source": [
    "loc        = 2\n",
    "scale      = 0.5\n",
    "size       = 10000\n",
    "range_from = 1\n",
    "range_to   = 3\n",
    "bins       = 3\n",
    "\n",
    "x = np.random.normal(loc, scale, size)\n",
    "a = plt.hist(x, normed=True, range=(range_from, range_to), bins=bins)\n",
    "b = np.histogram(x, normed=True, range=(range_from, range_to), bins=bins)\n",
    "print(x)\n",
    "print(a[0])\n",
    "print(b[0])\n",
    "plt.show()"
   ]
  },
  {
   "cell_type": "code",
   "execution_count": 3,
   "metadata": {},
   "outputs": [
    {
     "name": "stdout",
     "output_type": "stream",
     "text": [
      "[ 1.1760915   1.75664755  1.05759779 ...,  1.3311512   1.78496907\n",
      "  1.47137005]\n",
      "[ 0.96155507  1.00237014  0.96875773  0.96635684  0.97956172  0.97235906\n",
      "  0.99516748  1.03238123  1.04798699  1.037183    1.04318522  0.99756837]\n",
      "[ 0.96155507  1.00237014  0.96875773  0.96635684  0.97956172  0.97235906\n",
      "  0.99516748  1.03238123  1.04798699  1.037183    1.04318522  0.99756837]\n"
     ]
    },
    {
     "data": {
      "image/png": "[encoded data removed]",
      "text/plain": [
       "<matplotlib.figure.Figure at 0x11062b940>"
      ]
     },
     "metadata": {},
     "output_type": "display_data"
    }
   ],
   "source": [
    "x = np.random.uniform(1, 2, 10000)\n",
    "a = plt.hist(x, normed=True, bins=12)\n",
    "b = np.histogram(x, normed=True, bins=12)\n",
    "print(x)\n",
    "print(a[0])\n",
    "print(b[0])\n",
    "plt.show()"
   ]
  },
  {
   "cell_type": "code",
   "execution_count": 4,
   "metadata": {},
   "outputs": [
    {
     "name": "stdout",
     "output_type": "stream",
     "text": [
      "[ 1.17889492  1.56711076  1.00781991 ...,  1.01376538  1.66065728\n",
      "  1.40114568]\n",
      "[ 1.04891077  1.03450925  1.04891077  1.04050989  0.94209949  1.03570938\n",
      "  0.95410076  0.9469      1.01770748  0.97450292  0.95890127  0.99850545]\n",
      "[ 1.04891077  1.03450925  1.04891077  1.04050989  0.94209949  1.03570938\n",
      "  0.95410076  0.9469      1.01770748  0.97450292  0.95890127  0.99850545]\n"
     ]
    },
    {
     "data": {
      "image/png": "[encoded data removed]",
      "text/plain": [
       "<matplotlib.figure.Figure at 0x1107e3f60>"
      ]
     },
     "metadata": {},
     "output_type": "display_data"
    }
   ],
   "source": [
    "x = np.random.uniform(1, 2, 10000)\n",
    "a = plt.hist(x, bins=12, normed=True)\n",
    "b = np.histogram(x, normed=True, bins=12)\n",
    "print(x)\n",
    "print(a[0])\n",
    "print(b[0])\n",
    "plt.show()"
   ]
  },
  {
   "cell_type": "code",
   "execution_count": 5,
   "metadata": {},
   "outputs": [
    {
     "name": "stdout",
     "output_type": "stream",
     "text": [
      "85\n",
      "[  0.   0.   0.   0.   0.  10.   0.   0.   0.   0.]\n"
     ]
    },
    {
     "data": {
      "image/png": "[encoded data removed]",
      "text/plain": [
       "<matplotlib.figure.Figure at 0x10e6597b8>"
      ]
     },
     "metadata": {},
     "output_type": "display_data"
    }
   ],
   "source": [
    "x = np.random.binomial(100, 0.9, 1)\n",
    "print(x[0])\n",
    "a1 = plt.hist(x, normed=True)\n",
    "print(a1[0])\n",
    "plt.show()"
   ]
  },
  {
   "cell_type": "code",
   "execution_count": 6,
   "metadata": {},
   "outputs": [
    {
     "name": "stdout",
     "output_type": "stream",
     "text": [
      "[1]\n"
     ]
    }
   ],
   "source": [
    "x = np.random.multinomial(1, [1.0], 1)\n",
    "# print(x)\n",
    "print(x[0])\n",
    "# plt.hist(x, normed=True, range=(0, 4), bins=4)\n",
    "# b = np.histogram(x, normed=True, range=(0, 4), bins=4)\n",
    "# print(b[0])\n",
    "# for i in b:\n",
    "#     print(i)\n",
    "# plt.show()"
   ]
  },
  {
   "cell_type": "code",
   "execution_count": 7,
   "metadata": {},
   "outputs": [
    {
     "data": {
      "text/plain": [
       "array([[202, 102, 103, 593]])"
      ]
     },
     "execution_count": 7,
     "metadata": {},
     "output_type": "execute_result"
    }
   ],
   "source": [
    "np.random.multinomial(1000, [0.2, 0.1, 0.1, 0.2], 1)"
   ]
  },
  {
   "cell_type": "code",
   "execution_count": 8,
   "metadata": {},
   "outputs": [
    {
     "data": {
      "text/plain": [
       "[176, 106, 91, 627]"
      ]
     },
     "execution_count": 8,
     "metadata": {},
     "output_type": "execute_result"
    }
   ],
   "source": [
    "d = np.random.multinomial(1000, list({\"1\": 0.2, \"2\": 0.1, \"3\": 0.1, \"4\": 0.2}.values()), 1)\n",
    "list(d[0])"
   ]
  },
  {
   "cell_type": "code",
   "execution_count": 9,
   "metadata": {},
   "outputs": [
    {
     "name": "stdout",
     "output_type": "stream",
     "text": [
      "[ 0.01941602  0.01991378  0.01056819 ...,  0.01269828  0.01980089\n",
      "  0.01981583]\n",
      "3\n",
      "['1', '2', '3']\n",
      "{'1': 102.40438919976903, '2': 96.793600808220006, '3': 100.84416996789443}\n"
     ]
    }
   ],
   "source": [
    "init = {\n",
    "    \"MODE\": \"uniform\",\n",
    "    \"LOW\": 0.01,\n",
    "    \"HIGH\": 0.02,\n",
    "    \"SIZE\": 10000\n",
    "}\n",
    "choices = {\n",
    "    \"1\": 1,\n",
    "    \"2\": 2,\n",
    "    \"3\": 3\n",
    "}\n",
    "cnt_choices = len(choices)\n",
    "x = np.random.uniform(init['LOW'], init['HIGH'], init['SIZE'])\n",
    "d = np.histogram(x, normed=True, bins=cnt_choices)\n",
    "print(x)\n",
    "print(cnt_choices)\n",
    "dict_keys = []\n",
    "for k in range(1, cnt_choices+1):\n",
    "    dict_keys.append(str(k)) \n",
    "print(dict_keys)\n",
    "a = dict(zip(dict_keys, d[0]))\n",
    "print(a)\n"
   ]
  },
  {
   "cell_type": "code",
   "execution_count": 10,
   "metadata": {},
   "outputs": [
    {
     "name": "stdout",
     "output_type": "stream",
     "text": [
      "{'1': 97.583589848326625, '2': 101.06550200532628, '3': 101.51574926700727}\n",
      "{'1': 0.3251, '2': 0.3367, '3': 0.33819999999999995}\n",
      "{'1': 0.3251, '2': 0.66179999999999994, '3': 0.99999999999999989}\n",
      "{'1': 0.32510000000000006, '2': 0.66180000000000017, '3': 1.0000000000000002}\n"
     ]
    }
   ],
   "source": [
    "class Probability():\n",
    "    \"\"\"\n",
    "    確率計算\n",
    "    \"\"\"\n",
    "    def random_select(self, probabilities):\n",
    "        \"\"\"\n",
    "        設定された確率分布からのランダム選出\n",
    "        :param dict probabilities: 確率分布\n",
    "        :return: selected dict_key\n",
    "        \"\"\"\n",
    "        val = np.random.rand()\n",
    "        distribution = self.get_remap_distribution_split(probabilities)\n",
    "        for key in distribution:\n",
    "            if distribution[key] >= val:\n",
    "                return key\n",
    "        return None\n",
    "\n",
    "    @staticmethod\n",
    "    def get_remap_value(old_value, old_min, old_max, new_min, new_max):\n",
    "        \"\"\"\n",
    "        リマップされた値を取得\n",
    "        :param float old_value: リマップ前の値\n",
    "        :param float old_min: リマップ前のレンジ最小値\n",
    "        :param float old_max: リマップ前のレンジ最大値\n",
    "        :param float new_min: リマップ後のレンジ最小値\n",
    "        :param float new_max: リマップ後のレンジ最大値\n",
    "        :return: float リマップ後の値\n",
    "        \"\"\"\n",
    "        return ((old_value - old_min) / (old_max - old_min)) * (new_max - new_min) + new_min\n",
    "\n",
    "    @classmethod\n",
    "    def get(cls, key, probabilities):\n",
    "        \"\"\"\n",
    "        リマップされた確率分布から指定のキーの確率を取得\n",
    "        :param string key: 確率分布内のキー\n",
    "        :param dict probabilities: 確率分布\n",
    "        :return: float\n",
    "        \"\"\"\n",
    "        total = sum(probabilities.values())\n",
    "        if key in probabilities:\n",
    "            return cls.get_remap_value(probabilities[key], .0, total, .0, 1.0)\n",
    "        return None\n",
    "\n",
    "    @classmethod\n",
    "    def get_remap_distribution(cls, probabilities):\n",
    "        \"\"\"\n",
    "        確率分布をリマップして取得\n",
    "        :param dict probabilities: リマップ前の確率分布\n",
    "        :return: dict リマップ後の確率分布\n",
    "        \"\"\"\n",
    "        remap_probabilities = {}\n",
    "        accumulation = 0\n",
    "        for key in probabilities:\n",
    "            remap_probabilities[key] = cls.get(key, probabilities)\n",
    "        return remap_probabilities\n",
    "\n",
    "    @classmethod\n",
    "    def get_remap_distribution_split(cls, probabilities):\n",
    "        \"\"\"\n",
    "        確率分布をリマップし、最大1.0になるように分割して取得\n",
    "        :param dict probabilities: リマップ前の確率分布\n",
    "        :return: dict リマップ後の確率分布\n",
    "        \"\"\"\n",
    "        remap_probabilities = {}\n",
    "        accumulation = 0\n",
    "        for key in probabilities:\n",
    "            accumulation += cls.get(key, probabilities)\n",
    "            remap_probabilities[key] = accumulation\n",
    "        return remap_probabilities\n",
    "\n",
    "def convert_probability_distribution2(init, choices):\n",
    "    cnt_choices = len(choices)\n",
    "    dict_keys = []\n",
    "    for k in range(1, cnt_choices + 1):\n",
    "        dict_keys.append(str(k))\n",
    "    if init['MODE'] == \"uniform\":\n",
    "        x = np.random.uniform(init['LOW'], init['HIGH'], init['SIZE'])\n",
    "        d = np.histogram(x, normed=True, bins=cnt_choices)\n",
    "        distribution = dict(zip(dict_keys, d[0]))\n",
    "    elif init['MODE'] == \"binomial\":\n",
    "        x = np.random.binomial(init['TRIALS_NUM'], init['PROBABILITY'], init['SIZE'])\n",
    "        if init['CHOICE'] == \"1\":\n",
    "            key1 = x[0]\n",
    "            key2 = (init['TRIALS_NUM'] - x[0])\n",
    "        else:\n",
    "            key1 = (init['TRIALS_NUM'] - x[0])\n",
    "            key2 = x[0]\n",
    "        distribution = {\"1\": key1, \"2\": key2}\n",
    "    elif init['MODE'] == \"normal\":\n",
    "        x = np.random.normal(init['MEAN'], init['VARIANCE'], init['SIZE'])\n",
    "        d = np.histogram(x, normed=True, range=(0, cnt_choices), bins=cnt_choices)\n",
    "        distribution = dict(zip(dict_keys, d[0]))\n",
    "    p = Probability()\n",
    "    print(distribution)\n",
    "    print(p.get_remap_distribution(distribution))\n",
    "    print(p.get_remap_distribution_split(distribution))\n",
    "    return p.get_remap_distribution(distribution)\n",
    "\n",
    "init = {\n",
    "    \"MODE\": \"uniform\",\n",
    "    \"LOW\": 0.01,\n",
    "    \"HIGH\": 0.02,\n",
    "    \"SIZE\": 10000\n",
    "}\n",
    "choices = {\n",
    "    \"1\": 1,\n",
    "    \"2\": 2,\n",
    "    \"3\": 3\n",
    "}\n",
    "\n",
    "# init = {\n",
    "#                         \"MODE\": \"binomial\",\n",
    "#                         \"TRIALS_NUM\": 1000,\n",
    "#                         \"PROBABILITY\": 0.2,\n",
    "#                         \"SIZE\": 1,\n",
    "#                         \"CHOICE\": \"1\",\n",
    "#                         \"SWITCH_AFTER_CHOICE\": True\n",
    "# }\n",
    "# choices = {\n",
    "#                     \"1\": \"input\",\n",
    "#                     \"2\": \"empty\"\n",
    "# }\n",
    "\n",
    "# init = {\n",
    "#                                 \"MODE\": \"normal\",\n",
    "#                                 \"MEAN\": 3,\n",
    "#                                 \"VARIANCE\": 0.2,\n",
    "#                                 \"SIZE\": 10000\n",
    "# }\n",
    "# choices = {\n",
    "#                     \"1\": 100,\n",
    "#                     \"2\": 200,\n",
    "#                     \"3\": 300,\n",
    "#                     \"4\": 400,\n",
    "#                     \"5\": 500\n",
    "# }\n",
    "\n",
    "pro_dist = convert_probability_distribution2(init, choices)\n",
    "p = Probability()\n",
    "print(p.get_remap_distribution_split(pro_dist))"
   ]
  },
  {
   "cell_type": "code",
   "execution_count": 11,
   "metadata": {},
   "outputs": [
    {
     "name": "stdout",
     "output_type": "stream",
     "text": [
      "wide orange long\n"
     ]
    }
   ],
   "source": [
    "class Bill():\n",
    "    def __init__(self, description):\n",
    "        self.description = description\n",
    "\n",
    "class Tail():\n",
    "    def __init__(self, length):\n",
    "        self.length = length\n",
    "\n",
    "class Duck():\n",
    "    def __init__(self, bill, tail):\n",
    "        self.bill = bill\n",
    "        self.tail = tail\n",
    "\n",
    "    def about(self):\n",
    "        print(self.bill.description, self.tail.length)\n",
    "\n",
    "bill = Bill('wide orange')\n",
    "tail = Tail('long')\n",
    "duck = Duck(bill, tail)\n",
    "duck.about()\n"
   ]
  },
  {
   "cell_type": "code",
   "execution_count": 12,
   "metadata": {},
   "outputs": [
    {
     "data": {
      "text/plain": [
       "{'1': '1998/01/22',\n",
       " '10': '1998/07/30',\n",
       " '11': '1998/08/20',\n",
       " '12': '1998/09/10',\n",
       " '2': '1998/02/12',\n",
       " '3': '1998/03/05',\n",
       " '4': '1998/03/26',\n",
       " '5': '1998/04/16',\n",
       " '6': '1998/05/07',\n",
       " '7': '1998/05/28',\n",
       " '8': '1998/06/18',\n",
       " '9': '1998/07/09'}"
      ]
     },
     "execution_count": 12,
     "metadata": {},
     "output_type": "execute_result"
    }
   ],
   "source": [
    "import datetime\n",
    "d = datetime.datetime.strptime(\"1998/01/01\", '%Y/%m/%d')\n",
    "# d += datetime.timedelta({'weeks': 1})\n",
    "# print(d)\n",
    "key = 'weeks'\n",
    "val = 3\n",
    "q_dict = {key: val}\n",
    "aaa = {}\n",
    "for i in range(1, 13):\n",
    "    d += datetime.timedelta(**q_dict)\n",
    "#     print(\"{0:%Y/%m/%d}\".format(d))\n",
    "    aaa[str(i)] = \"{0:%Y/%m/%d}\".format(d)\n",
    "aaa"
   ]
  },
  {
   "cell_type": "code",
   "execution_count": 13,
   "metadata": {},
   "outputs": [
    {
     "name": "stdout",
     "output_type": "stream",
     "text": [
      "[]\n",
      "['pico', 'taro']\n",
      "['pico', 'taro']\n"
     ]
    }
   ],
   "source": [
    "import copy\n",
    "\n",
    "dict_PPAP = {\n",
    "    \"PP\": ['pen', 'pineapple'], \n",
    "    \"AP\": ['apple', 'pen'], \n",
    "    \"PPAP\": ['pen', 'pineapple', 'apple', 'pen']\n",
    "}\n",
    "\n",
    "def restore_acronym(dic, key, default = []):\n",
    "#     cp_dic = copy.deepcopy(dic)\n",
    "    if key in dic:\n",
    "        return dic[key]\n",
    "    else:\n",
    "        return default\n",
    "\n",
    "my_list = restore_acronym(dict_PPAP, \"PA\")\n",
    "print(my_list)\n",
    "\n",
    "my_list.append(\"pico\")\n",
    "my_list.append(\"taro\")\n",
    "print(my_list)\n",
    "print(restore_acronym(dict_PPAP, \"BANANA\"))"
   ]
  },
  {
   "cell_type": "code",
   "execution_count": 58,
   "metadata": {},
   "outputs": [
    {
     "name": "stdout",
     "output_type": "stream",
     "text": [
      "{'zip1': 1, 'zip2': 2}\n"
     ]
    }
   ],
   "source": [
    "aa = {\n",
    "    \"WHERE\": {\n",
    "        \"AND\": {\n",
    "            \"zip1\": 1,\n",
    "            \"zip2\": 2,\n",
    "        },\n",
    "        \"EXCLUDE\": {\n",
    "            \"city\": 3\n",
    "        }\n",
    "    }\n",
    "}\n",
    "query_dict = {}\n",
    "for key, conditions in aa[\"WHERE\"].items():\n",
    "    tmp = {}\n",
    "    for column, value in conditions.items():\n",
    "        tmp[column] = value\n",
    "    query_dict[key] = tmp\n",
    "\n",
    "print(query_dict['AND'])"
   ]
  },
  {
   "cell_type": "code",
   "execution_count": 52,
   "metadata": {},
   "outputs": [
    {
     "name": "stdout",
     "output_type": "stream",
     "text": [
      "{'aa': {'aa_1': {'aa_1_1': 1, 'aa_1_2': 2}, 'aa_2': {'aa_2_1': 3}}, 'bb': {'bb_1': {'bb_1_1': 4}}}\n",
      "0\n"
     ]
    },
    {
     "ename": "TypeError",
     "evalue": "set_setting2() takes 3 positional arguments but 4 were given",
     "output_type": "error",
     "traceback": [
      "\u001b[0;31m---------------------------------------------------------------------------\u001b[0m",
      "\u001b[0;31mTypeError\u001b[0m                                 Traceback (most recent call last)",
      "\u001b[0;32m<ipython-input-52-e061182d653b>\u001b[0m in \u001b[0;36m<module>\u001b[0;34m()\u001b[0m\n\u001b[1;32m     43\u001b[0m \u001b[0mprint\u001b[0m\u001b[0;34m(\u001b[0m\u001b[0msettings\u001b[0m\u001b[0;34m)\u001b[0m\u001b[0;34m\u001b[0m\u001b[0m\n\u001b[1;32m     44\u001b[0m \u001b[0mprint\u001b[0m\u001b[0;34m(\u001b[0m\u001b[0mcnt_sec\u001b[0m\u001b[0;34m)\u001b[0m\u001b[0;34m\u001b[0m\u001b[0m\n\u001b[0;32m---> 45\u001b[0;31m \u001b[0mset_setting2\u001b[0m\u001b[0;34m(\u001b[0m\u001b[0msettings\u001b[0m\u001b[0;34m,\u001b[0m \u001b[0;34m\"aa__aa_1__aa_1_2\"\u001b[0m\u001b[0;34m,\u001b[0m \u001b[0;36m5\u001b[0m\u001b[0;34m,\u001b[0m \u001b[0mcnt_sec\u001b[0m\u001b[0;34m)\u001b[0m\u001b[0;34m\u001b[0m\u001b[0m\n\u001b[0m\u001b[1;32m     46\u001b[0m \u001b[0mprint\u001b[0m\u001b[0;34m(\u001b[0m\u001b[0msettings\u001b[0m\u001b[0;34m)\u001b[0m\u001b[0;34m\u001b[0m\u001b[0m\n\u001b[1;32m     47\u001b[0m \u001b[0mprint\u001b[0m\u001b[0;34m(\u001b[0m\u001b[0mcnt_sec\u001b[0m\u001b[0;34m)\u001b[0m\u001b[0;34m\u001b[0m\u001b[0m\n",
      "\u001b[0;31mTypeError\u001b[0m: set_setting2() takes 3 positional arguments but 4 were given"
     ]
    }
   ],
   "source": [
    "import copy\n",
    "settings = {\n",
    "    \"aa\": {\n",
    "        \"aa_1\": {\n",
    "            \"aa_1_1\": 1,\n",
    "            \"aa_1_2\": 2,\n",
    "        },\n",
    "        \"aa_2\": {\n",
    "            \"aa_2_1\": 3,\n",
    "        }\n",
    "    },\n",
    "    \"bb\": {\n",
    "        \"bb_1\": {\n",
    "            \"bb_1_1\": 4\n",
    "        },\n",
    "    }\n",
    "}\n",
    "\n",
    "def set_setting(settings, key_path, value):\n",
    "    paths = key_path.split(\"__\")\n",
    "    cnt = len(paths)\n",
    "    i = 1\n",
    "    for key in paths:\n",
    "        if i != cnt and isinstance(settings, dict) and key in settings:\n",
    "            settings = settings[key]\n",
    "        else:\n",
    "            settings[key] = value\n",
    "        i += 1\n",
    "\n",
    "def set_setting2(settings, key_path, value, cnt_sec):\n",
    "    cnt_sec += 1\n",
    "    paths = key_path.split(\"__\")\n",
    "    cnt = len(paths)\n",
    "    i = 1\n",
    "    for key in paths:\n",
    "        if i != cnt and isinstance(settings, dict) and key in settings:\n",
    "            settings = settings[key]\n",
    "        else:\n",
    "            settings[key] = value\n",
    "        i += 1\n",
    "\n",
    "cnt_sec = 0\n",
    "print(settings)\n",
    "print(cnt_sec)\n",
    "set_setting2(settings, \"aa__aa_1__aa_1_2\", 5, cnt_sec)\n",
    "print(settings)\n",
    "print(cnt_sec)\n"
   ]
  },
  {
   "cell_type": "code",
   "execution_count": 49,
   "metadata": {},
   "outputs": [
    {
     "name": "stdout",
     "output_type": "stream",
     "text": [
      "True\n"
     ]
    }
   ],
   "source": [
    "aa = [\"aa\", \"bb\"]\n",
    "print(\"aa\" in aa)"
   ]
  },
  {
   "cell_type": "code",
   "execution_count": 58,
   "metadata": {},
   "outputs": [
    {
     "name": "stdout",
     "output_type": "stream",
     "text": [
      "('a', {'a': 1, 'b': 2})\n",
      "1\n"
     ]
    }
   ],
   "source": [
    "def test():\n",
    "    return \"a\", {\"a\":1, \"b\":2}\n",
    "\n",
    "val = test()\n",
    "print(val)\n",
    "print(val[1][\"a\"])"
   ]
  },
  {
   "cell_type": "code",
   "execution_count": 60,
   "metadata": {},
   "outputs": [
    {
     "data": {
      "text/plain": [
       "datetime.datetime(2018, 1, 9, 0, 21, 21, 495268)"
      ]
     },
     "execution_count": 60,
     "metadata": {},
     "output_type": "execute_result"
    }
   ],
   "source": [
    "from datetime import datetime\n",
    "datetime.now()"
   ]
  },
  {
   "cell_type": "code",
   "execution_count": null,
   "metadata": {},
   "outputs": [],
   "source": []
  }
 ],
 "metadata": {
  "kernelspec": {
   "display_name": "Python 3",
   "language": "python",
   "name": "python3"
  },
  "language_info": {
   "codemirror_mode": {
    "name": "ipython",
    "version": 3
   },
   "file_extension": ".py",
   "mimetype": "text/x-python",
   "name": "python",
   "nbconvert_exporter": "python",
   "pygments_lexer": "ipython3",
   "version": "3.6.1"
  }
 },
 "nbformat": 4,
 "nbformat_minor": 2
}
