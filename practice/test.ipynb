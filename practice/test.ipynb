{
 "cells": [
  {
   "cell_type": "code",
   "execution_count": 1,
   "metadata": {},
   "outputs": [],
   "source": [
    "import numpy as np\n",
    "import matplotlib.pyplot as plt\n",
    "import pandas as pd\n",
    "import mglearn\n",
    "import sklearn\n",
    "from IPython.display import display\n",
    "%matplotlib inline"
   ]
  },
  {
   "cell_type": "code",
   "execution_count": 74,
   "metadata": {},
   "outputs": [
    {
     "name": "stdout",
     "output_type": "stream",
     "text": [
      "dd\n"
     ]
    }
   ],
   "source": [
    "class CalcProbability:\n",
    "    \"\"\"\n",
    "    確率計算\n",
    "    \"\"\"\n",
    "    def random_select(self, probabilities):\n",
    "        \"\"\"\n",
    "        確率分布からランダムに選択肢を取得\n",
    "        :param dict probabilities: 確率分布\n",
    "        :return: selected dict_key\n",
    "        \"\"\"\n",
    "        val = np.random.rand()\n",
    "        probabilityDistribution = self.remap_probability_distribution(probabilities)\n",
    "        for key in probabilityDistribution:\n",
    "            if probabilityDistribution[key] >= val:\n",
    "                return key\n",
    "\n",
    "    @staticmethod\n",
    "    def remap(old_value, old_min, old_max, new_min, new_max):\n",
    "        \"\"\"\n",
    "        値のリマップ\n",
    "        :param float old_value: リマップ前の値\n",
    "        :param float old_min: リマップ前のレンジ最小値\n",
    "        :param float old_max: リマップ前のレンジ最大値\n",
    "        :param float new_min: リマップ後のレンジ最小値\n",
    "        :param float new_max: リマップ後のレンジ最大値\n",
    "        :return: float リマップ後の値\n",
    "        \"\"\"\n",
    "        return ((old_value - old_min) / (old_max - old_min)) * (new_max - new_min) + new_min\n",
    "\n",
    "    @classmethod\n",
    "    def remap_probability_distribution(cls, probabilities):\n",
    "        \"\"\"\n",
    "        確率分布をリマップ修正\n",
    "        :param dict probabilities: リマップ前の確率分布\n",
    "        :return: dict リマップ後の確率分布\n",
    "        \"\"\"\n",
    "        total = sum(probabilities.values())\n",
    "        remap_probabilities = {}\n",
    "        accumulation = 0\n",
    "        for key in probabilities:\n",
    "            accumulation += cls.remap(probabilities[key], .0, total, .0, 1.0)\n",
    "            remap_probabilities[key] = accumulation\n",
    "        return remap_probabilities\n",
    "\n",
    "probabilities = {\n",
    "    \"aa\":0.3,\n",
    "    \"bb\":0.4,\n",
    "    \"cc\":0.1,\n",
    "    \"dd\":0.2,\n",
    "}\n",
    "probability = CalcProbability()\n",
    "print(probability.random_select(probabilities))"
   ]
  },
  {
   "cell_type": "code",
   "execution_count": null,
   "metadata": {},
   "outputs": [],
   "source": []
  }
 ],
 "metadata": {
  "kernelspec": {
   "display_name": "Python 3",
   "language": "python",
   "name": "python3"
  },
  "language_info": {
   "codemirror_mode": {
    "name": "ipython",
    "version": 3
   },
   "file_extension": ".py",
   "mimetype": "text/x-python",
   "name": "python",
   "nbconvert_exporter": "python",
   "pygments_lexer": "ipython3",
   "version": "3.6.2"
  }
 },
 "nbformat": 4,
 "nbformat_minor": 2
}
