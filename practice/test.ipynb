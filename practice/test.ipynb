{
 "cells": [
  {
   "cell_type": "code",
   "execution_count": 52,
   "metadata": {},
   "outputs": [],
   "source": [
    "import numpy as np\n",
    "import matplotlib.pyplot as plt"
   ]
  },
  {
   "cell_type": "code",
   "execution_count": 72,
   "metadata": {},
   "outputs": [
    {
     "name": "stdout",
     "output_type": "stream",
     "text": [
      "[ 4.7569473   5.05161824  4.2790278  ...,  4.90494986  5.60152625\n",
      "  4.7878466 ]\n",
      "[  0.00000000e+00   0.00000000e+00   0.00000000e+00   3.33333333e-03\n",
      "   1.74333333e-01   6.94222222e-01   2.33888889e-01   5.22222222e-03\n",
      "   1.11111111e-04   0.00000000e+00]\n",
      "[  0.00000000e+00   0.00000000e+00   0.00000000e+00   3.33333333e-03\n",
      "   1.74333333e-01   6.94222222e-01   2.33888889e-01   5.22222222e-03\n",
      "   1.11111111e-04   0.00000000e+00]\n"
     ]
    },
    {
     "data": {
      "image/png": "[encoded data removed]",
      "text/plain": [
       "<matplotlib.figure.Figure at 0xb39670>"
      ]
     },
     "metadata": {},
     "output_type": "display_data"
    }
   ],
   "source": [
    "loc        = 5\n",
    "scale      = 0.5\n",
    "size       = 10000\n",
    "range_from = 0\n",
    "range_to   = 9\n",
    "bins       = 10\n",
    "\n",
    "x = np.random.normal(loc, scale, size)\n",
    "a = plt.hist(x, normed=True, range=(range_from, range_to), bins=bins)\n",
    "b = np.histogram(x, normed=True, range=(range_from, range_to), bins=bins)\n",
    "print(x)\n",
    "print(a[0])\n",
    "print(b[0])\n",
    "plt.show()"
   ]
  },
  {
   "cell_type": "code",
   "execution_count": 59,
   "metadata": {},
   "outputs": [
    {
     "name": "stdout",
     "output_type": "stream",
     "text": [
      "[ 0.15649921  0.17453576  0.18679199]\n",
      "[  0.   0.  15.]\n"
     ]
    },
    {
     "data": {
      "image/png": "[encoded data removed]",
      "text/plain": [
       "<matplotlib.figure.Figure at 0x9c0f0f0>"
      ]
     },
     "metadata": {},
     "output_type": "display_data"
    }
   ],
   "source": [
    "x = np.random.uniform(0.1, 0.2, 3)\n",
    "a = plt.hist(x, normed=True, range=(0.0, 0.2), bins=3)\n",
    "print(x)\n",
    "print(a[0])\n",
    "plt.show()"
   ]
  },
  {
   "cell_type": "code",
   "execution_count": null,
   "metadata": {},
   "outputs": [],
   "source": []
  }
 ],
 "metadata": {
  "kernelspec": {
   "display_name": "Python 3",
   "language": "python",
   "name": "python3"
  },
  "language_info": {
   "codemirror_mode": {
    "name": "ipython",
    "version": 3
   },
   "file_extension": ".py",
   "mimetype": "text/x-python",
   "name": "python",
   "nbconvert_exporter": "python",
   "pygments_lexer": "ipython3",
   "version": "3.6.2"
  }
 },
 "nbformat": 4,
 "nbformat_minor": 2
}
