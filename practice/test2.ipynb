{
 "cells": [
  {
   "cell_type": "code",
   "execution_count": 30,
   "metadata": {},
   "outputs": [],
   "source": [
    "import numpy as np\n",
    "import matplotlib.pyplot as plt"
   ]
  },
  {
   "cell_type": "code",
   "execution_count": 39,
   "metadata": {},
   "outputs": [],
   "source": [
    "def convert(choices, mean, variance, size):\n",
    "    distribution = np.random.normal(mean, variance, size)\n",
    "    n = len(choices)\n",
    "    hist = np.histogram(distribution, range=(0, n), bins=n, normed=True)\n",
    "    dict = {}\n",
    "    i = 1\n",
    "    for probability in hist[0]:\n",
    "        dict[i] = probability\n",
    "        i += 1\n",
    "    return dict"
   ]
  },
  {
   "cell_type": "code",
   "execution_count": 41,
   "metadata": {},
   "outputs": [
    {
     "name": "stdout",
     "output_type": "stream",
     "text": [
      "[ 2.06078202  3.60433024  1.41980285 ...,  1.76343877  1.58745858\n",
      "  1.80643193]\n",
      "{1: 0.021427106827968011, 2: 0.49702686077506664, 3: 0.48154603239696536}\n"
     ]
    }
   ],
   "source": [
    "dict = {\n",
    "    \"CHOICES\": {\n",
    "        \"1\": 90,\n",
    "        \"2\": 100,\n",
    "        \"3\": 110\n",
    "    },\n",
    "    \"INIT\": {\n",
    "        \"MODE\": \"normal\",\n",
    "        \"MEAN\": 2,\n",
    "        \"VARIANCE\": 0.5,\n",
    "        \"SIZE\": 10000\n",
    "    },\n",
    "    \"NEXT\": {\n",
    "        \"90\": {},\n",
    "        \"100\": {},\n",
    "        \"110\": {}\n",
    "    }\n",
    "}\n",
    "print(convert(dict[\"CHOICES\"], dict[\"INIT\"][\"MEAN\"], dict[\"INIT\"][\"VARIANCE\"], dict[\"INIT\"][\"SIZE\"]))"
   ]
  },
  {
   "cell_type": "code",
   "execution_count": null,
   "metadata": {},
   "outputs": [],
   "source": []
  }
 ],
 "metadata": {
  "kernelspec": {
   "display_name": "Python 3",
   "language": "python",
   "name": "python3"
  },
  "language_info": {
   "codemirror_mode": {
    "name": "ipython",
    "version": 3
   },
   "file_extension": ".py",
   "mimetype": "text/x-python",
   "name": "python",
   "nbconvert_exporter": "python",
   "pygments_lexer": "ipython3",
   "version": "3.6.1"
  }
 },
 "nbformat": 4,
 "nbformat_minor": 2
}
