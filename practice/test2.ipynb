{
 "cells": [
  {
   "cell_type": "code",
   "execution_count": 6,
   "metadata": {},
   "outputs": [],
   "source": [
    "import numpy as np\n",
    "import matplotlib.pyplot as plt"
   ]
  },
  {
   "cell_type": "code",
   "execution_count": 7,
   "metadata": {},
   "outputs": [],
   "source": [
    "def rd_normal(id, per):\n",
    "    x = np.random.normal(per[\"LOC\"], per[\"SCALE\"], per[\"SIZE\"])\n",
    "    range_from = 0\n",
    "    range_to = len(id)\n",
    "    bins = len(id)\n",
    "    hists = np.histogram(x, normed=True, range=(range_from, range_to), bins=bins)\n",
    "    dict = {}\n",
    "    i = 1\n",
    "    for hist in hists[0]:\n",
    "        dict[i] = hist\n",
    "        i += 1\n",
    "    return dict"
   ]
  },
  {
   "cell_type": "code",
   "execution_count": 8,
   "metadata": {},
   "outputs": [
    {
     "name": "stdout",
     "output_type": "stream",
     "text": [
      "{1: 0.023169981546032396, 2: 0.48554439204428951, 3: 0.4912856264096781}\n"
     ]
    }
   ],
   "source": [
    "dict = {\n",
    "    \"ID\": {\n",
    "        \"1\": 90,\n",
    "        \"2\": 100,\n",
    "        \"3\": 110\n",
    "    },\n",
    "    \"PER\": {\n",
    "        \"MODE\": \"normal\",\n",
    "        \"LOC\": 2,\n",
    "        \"SCALE\": 0.5,\n",
    "        \"SIZE\": 10000\n",
    "    }\n",
    "}\n",
    "print(rd_normal(dict[\"ID\"], dict[\"PER\"]))"
   ]
  },
  {
   "cell_type": "code",
   "execution_count": null,
   "metadata": {},
   "outputs": [],
   "source": []
  }
 ],
 "metadata": {
  "kernelspec": {
   "display_name": "Python 3",
   "language": "python",
   "name": "python3"
  },
  "language_info": {
   "codemirror_mode": {
    "name": "ipython",
    "version": 3
   },
   "file_extension": ".py",
   "mimetype": "text/x-python",
   "name": "python",
   "nbconvert_exporter": "python",
   "pygments_lexer": "ipython3",
   "version": "3.6.2"
  }
 },
 "nbformat": 4,
 "nbformat_minor": 2
}
