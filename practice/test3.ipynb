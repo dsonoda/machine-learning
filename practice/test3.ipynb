{
 "cells": [
  {
   "cell_type": "code",
   "execution_count": 1,
   "metadata": {},
   "outputs": [],
   "source": [
    "import numpy as np\n",
    "import matplotlib.pyplot as plt"
   ]
  },
  {
   "cell_type": "code",
   "execution_count": 2,
   "metadata": {},
   "outputs": [],
   "source": [
    "class ProbabilityManager():\n",
    "    \"\"\"\n",
    "    確率データ管理\n",
    "    \"\"\"\n",
    "    def random_select(self, probabilities):\n",
    "        \"\"\"\n",
    "        設定された確率分布からのランダム選出\n",
    "        :param dict probabilities: 確率分布\n",
    "        :return: selected dict_key\n",
    "        \"\"\"\n",
    "        val = np.random.rand()\n",
    "        distribution = self.get_remap_distribution_split(probabilities)\n",
    "        for key in distribution:\n",
    "            if distribution[key] >= val:\n",
    "                return key\n",
    "        return None\n",
    "\n",
    "    @staticmethod\n",
    "    def get_remap_value(old_value, old_min, old_max, new_min, new_max):\n",
    "        \"\"\"\n",
    "        リマップされた値を取得\n",
    "        :param float old_value: リマップ前の値\n",
    "        :param float old_min: リマップ前のレンジ最小値\n",
    "        :param float old_max: リマップ前のレンジ最大値\n",
    "        :param float new_min: リマップ後のレンジ最小値\n",
    "        :param float new_max: リマップ後のレンジ最大値\n",
    "        :return: float リマップ後の値\n",
    "        \"\"\"\n",
    "        return ((old_value - old_min) / (old_max - old_min)) * (new_max - new_min) + new_min\n",
    "\n",
    "    @classmethod\n",
    "    def get(cls, key, probabilities):\n",
    "        \"\"\"\n",
    "        リマップされた確率分布から指定のキーの確率を取得\n",
    "        :param string key: 確率分布内のキー\n",
    "        :param dict probabilities: 確率分布\n",
    "        :return: float\n",
    "        \"\"\"\n",
    "        total = sum(probabilities.values())\n",
    "        if total == 0.0:\n",
    "            # すべての選択肢が0.0 だった場合、0.1を割り振り\n",
    "            for k, v in probabilities.items():\n",
    "                probabilities[k] = 0.1\n",
    "                total += 0.1\n",
    "        if key in probabilities:\n",
    "            return cls.get_remap_value(probabilities[key], .0, total, .0, 1.0)\n",
    "        return None\n",
    "\n",
    "    @classmethod\n",
    "    def get_remap_distribution(cls, probabilities):\n",
    "        \"\"\"\n",
    "        確率分布をリマップして取得\n",
    "        :param dict probabilities: リマップ前の確率分布\n",
    "        :return: dict リマップ後の確率分布\n",
    "        \"\"\"\n",
    "        remap_probabilities = {}\n",
    "        for key in probabilities:\n",
    "            remap_probabilities[key] = cls.get(key, probabilities)\n",
    "        return remap_probabilities\n",
    "\n",
    "    @classmethod\n",
    "    def get_remap_distribution_split(cls, probabilities):\n",
    "        \"\"\"\n",
    "        確率分布をリマップし、最大1.0になるように分割して取得\n",
    "        :param dict probabilities: リマップ前の確率分布\n",
    "        :return: dict リマップ後の確率分布\n",
    "        \"\"\"\n",
    "        remap_probabilities = {}\n",
    "        accumulation = 0\n",
    "        for key in probabilities:\n",
    "            accumulation += cls.get(key, probabilities)\n",
    "            remap_probabilities[key] = accumulation\n",
    "        return remap_probabilities"
   ]
  },
  {
   "cell_type": "code",
   "execution_count": 3,
   "metadata": {},
   "outputs": [
    {
     "data": {
      "text/plain": [
       "1"
      ]
     },
     "execution_count": 3,
     "metadata": {},
     "output_type": "execute_result"
    }
   ],
   "source": [
    "aa = {\"a\":1, \"b\":2}\n",
    "aa.get(\"a\")"
   ]
  },
  {
   "cell_type": "code",
   "execution_count": 4,
   "metadata": {},
   "outputs": [
    {
     "name": "stdout",
     "output_type": "stream",
     "text": [
      "1d79b2326517d39641ef23f560a61043\n"
     ]
    }
   ],
   "source": [
    "from hashlib import md5\n",
    "import time\n",
    "\n",
    "timestamp = time.time()\n",
    "timestamp = str(timestamp)\n",
    "m = md5()\n",
    "m.update(timestamp.encode())\n",
    "print(m.hexdigest())"
   ]
  },
  {
   "cell_type": "code",
   "execution_count": null,
   "metadata": {},
   "outputs": [],
   "source": []
  }
 ],
 "metadata": {
  "kernelspec": {
   "display_name": "Python 3",
   "language": "python",
   "name": "python3"
  },
  "language_info": {
   "codemirror_mode": {
    "name": "ipython",
    "version": 3
   },
   "file_extension": ".py",
   "mimetype": "text/x-python",
   "name": "python",
   "nbconvert_exporter": "python",
   "pygments_lexer": "ipython3",
   "version": "3.6.1"
  }
 },
 "nbformat": 4,
 "nbformat_minor": 2
}
